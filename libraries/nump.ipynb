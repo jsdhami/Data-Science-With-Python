{
 "cells": [
  {
   "cell_type": "markdown",
   "metadata": {},
   "source": [
    "Learn NumPy with Scratch "
   ]
  },
  {
   "cell_type": "markdown",
   "metadata": {},
   "source": [
    "# What is Numpy?\n",
    "# Numpy is a python library used for working with arrays. It also has functions for working in domain of linear algebra, fourier transform, and matrices. Numpy was created in 2005 by Travis Olliphant. It is an open source project and you can use it freely. Numpy stands for Numerical Python.\n",
    "\n",
    "# Why Numpy?\n",
    "- In Python we have lists that serve the purpose of arrays, but they are slow to process. Numpy aims to provide an array object that is up to 50x faster than traditional Python lists. The array object in Numpy is called ndarray, it provides a lot of supporting functions that make working with ndarray very easy. Arrays are very frequently used in data science, where speed and resources are very important.\n",
    "\n",
    "# Why is Numpy Faster?\n",
    "- Numpy arrays are stored at one continuous place in memory unlike lists, so processes can access and manipulate them very efficiently. This behavior is called locality of reference in computer science. This is the main reason why Numpy is faster than lists. Also it is optimized to work with latest CPU architectures.\n",
    "\n",
    "# Which Language is Numpy written in?\n",
    "- Numpy is a Python library and is written partially in Python, but most of the parts that require fast computation are written in C or C++."
   ]
  },
  {
   "cell_type": "code",
   "execution_count": null,
   "metadata": {},
   "outputs": [],
   "source": [
    "# install numpy module using pip package manager\n",
    "pip install numpy"
   ]
  },
  {
   "cell_type": "code",
   "execution_count": 4,
   "metadata": {
    "metadata": {}
   },
   "outputs": [],
   "source": [
    "# importing the numpy module\n",
    "import numpy"
   ]
  },
  {
   "cell_type": "markdown",
   "metadata": {},
   "source": [
    "Or"
   ]
  },
  {
   "cell_type": "code",
   "execution_count": null,
   "metadata": {},
   "outputs": [],
   "source": [
    "# import numpy module as np\n",
    "import numpy as np"
   ]
  },
  {
   "cell_type": "code",
   "execution_count": 5,
   "metadata": {
    "metadata": {}
   },
   "outputs": [
    {
     "name": "stdout",
     "output_type": "stream",
     "text": [
      "Version: 1.26.4\n"
     ]
    }
   ],
   "source": [
    "# Checking version of numpy module\n",
    "print(\"Version:\", np.__version__)"
   ]
  },
  {
   "cell_type": "code",
   "execution_count": 6,
   "metadata": {
    "metadata": {}
   },
   "outputs": [
    {
     "name": "stdout",
     "output_type": "stream",
     "text": [
      "Array: [1 2 3 4 5]\n",
      "type of array: <class 'numpy.ndarray'>\n"
     ]
    }
   ],
   "source": [
    "# Creating an array using numpy\n",
    "arr = np.array([1, 2, 3, 4, 5])\n",
    "print(\"Array:\", arr)\n",
    "\n",
    "# checking the type of array\n",
    "print(\"type of array:\", type(arr))"
   ]
  },
  {
   "cell_type": "code",
   "execution_count": 17,
   "metadata": {
    "metadata": {}
   },
   "outputs": [
    {
     "name": "stdout",
     "output_type": "stream",
     "text": [
      "[1 2 3 4 5]\n"
     ]
    }
   ],
   "source": [
    "arr = np.array((1, 2, 3, 4, 5))\n",
    "print(arr)"
   ]
  },
  {
   "cell_type": "code",
   "execution_count": 27,
   "metadata": {
    "metadata": {}
   },
   "outputs": [
    {
     "name": "stdout",
     "output_type": "stream",
     "text": [
      "0-D array: 2\n"
     ]
    }
   ],
   "source": [
    "# Dimension on array\n",
    "# 0-D array means the array has 0 dimensions and it is a scalar value in numpy\n",
    "zero_dimension = np.array(2)\n",
    "print(\"0-D array:\", zero_dimension)\n"
   ]
  },
  {
   "cell_type": "code",
   "execution_count": 28,
   "metadata": {
    "metadata": {}
   },
   "outputs": [
    {
     "name": "stdout",
     "output_type": "stream",
     "text": [
      "1-D array: [1 2 3 4 5]\n"
     ]
    }
   ],
   "source": [
    "# 1-D array means the array has 1 dimension and it is a vector in numpy\n",
    "one_dimension = np.array([1, 2, 3, 4, 5])\n",
    "print(\"1-D array:\", one_dimension)\n",
    "\n"
   ]
  },
  {
   "cell_type": "code",
   "execution_count": 29,
   "metadata": {
    "metadata": {}
   },
   "outputs": [
    {
     "name": "stdout",
     "output_type": "stream",
     "text": [
      "[[1 2 3]\n",
      " [4 5 6]]\n",
      "2\n",
      "(2, 3)\n"
     ]
    }
   ],
   "source": [
    "# 2-D array means the array has 2 dimensions and it is a matrix in numpy\n",
    "two_dimension = np.array([[1, 2, 3], \n",
    "                          [4, 5, 6]])\n",
    "print(two_dimension)\n",
    "print(two_dimension.ndim) # checking the dimension of array\n",
    "print(two_dimension.shape) # checking the shape of array"
   ]
  },
  {
   "cell_type": "code",
   "execution_count": 36,
   "metadata": {
    "metadata": {}
   },
   "outputs": [
    {
     "name": "stdout",
     "output_type": "stream",
     "text": [
      "[[[1 2 3]\n",
      "  [4 5 6]\n",
      "  [5 5 5]]\n",
      "\n",
      " [[7 8 9]\n",
      "  [1 1 2]\n",
      "  [5 5 6]]\n",
      "\n",
      " [[1 2 3]\n",
      "  [4 5 6]\n",
      "  [5 5 5]]]\n",
      "3\n",
      "(3, 3, 3)\n",
      "27\n"
     ]
    }
   ],
   "source": [
    "\n",
    "# 3-D array means the array has 3 dimensions and it is a matrix in numpy\n",
    "three_dimension = np.array([[[1, 2, 3],[4, 5, 6],[5,5,5]],\n",
    "                            [[7, 8, 9],[1, 1, 2],[5,5,6]],\n",
    "                            [[1, 2, 3],[4, 5, 6],[5,5,5]]])\n",
    "print(three_dimension)\n",
    "print(three_dimension.ndim) # checking the dimension of array\n",
    "print(three_dimension.shape) # checking the shape of array\n",
    "print(three_dimension.size) # checking the size of array"
   ]
  },
  {
   "cell_type": "code",
   "execution_count": 35,
   "metadata": {
    "metadata": {}
   },
   "outputs": [
    {
     "name": "stdout",
     "output_type": "stream",
     "text": [
      "[[[[1 2 3]\n",
      "   [4 5 6]\n",
      "   [5 5 5]]\n",
      "\n",
      "  [[7 8 9]\n",
      "   [1 1 2]\n",
      "   [5 5 6]]\n",
      "\n",
      "  [[1 2 3]\n",
      "   [4 5 6]\n",
      "   [5 5 5]]]\n",
      "\n",
      "\n",
      " [[[1 2 3]\n",
      "   [4 5 6]\n",
      "   [5 5 5]]\n",
      "\n",
      "  [[7 8 9]\n",
      "   [1 1 2]\n",
      "   [5 5 6]]\n",
      "\n",
      "  [[1 2 3]\n",
      "   [4 5 6]\n",
      "   [5 5 5]]]]\n",
      "4\n",
      "(2, 3, 3, 3)\n",
      "54\n"
     ]
    }
   ],
   "source": [
    "# 4-D array means the array has 4 dimensions and it is a matrix in numpy\n",
    "four_dimension = np.array([[[[1, 2, 3],[4, 5, 6],[5,5,5]],\n",
    "                            [[7, 8, 9],[1, 1, 2],[5,5,6]],\n",
    "                            [[1, 2, 3],[4, 5, 6],[5,5,5]]],\n",
    "                           [[[1, 2, 3],[4, 5, 6],[5,5,5]],\n",
    "                            [[7, 8, 9],[1, 1, 2],[5,5,6]],\n",
    "                            [[1, 2, 3],[4, 5, 6],[5,5,5]]]])\n",
    "print(four_dimension)\n",
    "print(four_dimension.ndim) # checking the dimension of array\n",
    "print(four_dimension.shape) # checking the shape of array\n",
    "print(four_dimension.size) # checking the size of array"
   ]
  },
  {
   "cell_type": "code",
   "execution_count": 41,
   "metadata": {
    "metadata": {}
   },
   "outputs": [
    {
     "name": "stdout",
     "output_type": "stream",
     "text": [
      "[[[[[1 2 3 4]]]]]\n",
      "(1, 1, 1, 1, 4)\n",
      "5\n",
      "Solved by Janak\n"
     ]
    }
   ],
   "source": [
    "# Create a 5-D array with values 1,2,3,4 and verify the dimension of array\n",
    "\n",
    "five_dimension = np.array([1, 2, 3, 4], ndmin=5)\n",
    "print(five_dimension) \n",
    "print(five_dimension.shape)\n",
    "print(five_dimension.ndim)\n",
    "\n",
    "print(\"Solved by Janak\")"
   ]
  },
  {
   "cell_type": "code",
   "execution_count": null,
   "metadata": {},
   "outputs": [],
   "source": []
  }
 ],
 "metadata": {
  "kernelspec": {
   "display_name": "Python 3",
   "language": "python",
   "name": "python3"
  },
  "language_info": {
   "codemirror_mode": {
    "name": "ipython",
    "version": 3
   },
   "file_extension": ".py",
   "mimetype": "text/x-python",
   "name": "python",
   "nbconvert_exporter": "python",
   "pygments_lexer": "ipython3",
   "version": "3.10.13"
  }
 },
 "nbformat": 4,
 "nbformat_minor": 2
}
