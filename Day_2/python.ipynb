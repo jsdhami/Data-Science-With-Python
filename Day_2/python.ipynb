{
 "cells": [
  {
   "cell_type": "markdown",
   "metadata": {},
   "source": [
    "Data Structure in Python"
   ]
  },
  {
   "cell_type": "code",
   "execution_count": 3,
   "metadata": {},
   "outputs": [
    {
     "name": "stdout",
     "output_type": "stream",
     "text": [
      "[10, 20, 14]\n",
      "['Geeks', 'For', 'Geeks']\n",
      "[['Geeks', 'For'], ['Geeks']]\n",
      "[1, 2, 4, 4, 3, 3, 3, 6, 5]\n",
      "[1, 2, 'Geeks', 4, 'For', 6, 'Geeks']\n",
      "[['Geeks', 'For'], ['Geeks']]\n",
      "[(1, 2), (3, 4)]\n",
      "[[1, 2], [3, 4]]\n",
      "[('Geeks', 'For'), 'Geeks']\n"
     ]
    }
   ],
   "source": [
    "# List Data Structure in Python\n",
    "# List is a collection of items. Items can be of any data type.\n",
    "# List is created by placing all the items (elements) inside square brackets [] separated by commas.\n",
    "# It can have any number of items and they may be of different types (integer, float, string etc.).\n",
    "\n",
    "# Creating a List\n",
    "# List can be created by placing the items inside square brackets [] separated by commas.\n",
    "# Empty List can be created by just placing to square brackets [].\n",
    "# List can also be created by using list() function.\n",
    "\n",
    "# Creating a List of Integers\n",
    "List = [10, 20, 14]\n",
    "print(List)\n",
    "\n",
    "# Creating a List of Strings\n",
    "List = ['Geeks', 'For', 'Geeks']\n",
    "print(List)\n",
    "\n",
    "# Creating a Multi-Dimensional List (By Nesting a list inside a List)\n",
    "List = [['Geeks', 'For'], ['Geeks']]\n",
    "print(List)\n",
    "\n",
    "# Creating a List with the use of Numbers (Having duplicate values)\n",
    "List = [1, 2, 4, 4, 3, 3, 3, 6, 5]\n",
    "print(List)\n",
    "\n",
    "# Creating a List with mixed type of values (Having numbers and strings)\n",
    "List = [1, 2, 'Geeks', 4, 'For', 6, 'Geeks']\n",
    "print(List)\n",
    "\n",
    "# Creating a List with a List\n",
    "List = [['Geeks', 'For'], ['Geeks']]\n",
    "print(List)\n",
    "\n",
    "# Creating a List with a Tuples\n",
    "List = [ (1, 2), (3, 4) ]\n",
    "print(List)\n",
    "\n",
    "# Creating a List with a List of Tuples\n",
    "List = [ [1, 2], [3, 4] ]\n",
    "print(List)\n",
    "\n",
    "# Creating a List with a List of Tuples of Strings\n",
    "List = [ ('Geeks', 'For'), ('Geeks') ]\n",
    "print(List)\n",
    "\n",
    "# Creating a List with a List of Tuples of Strings\n",
    "List = [ ('Geeks', 'For'), ('Geeks') ]"
   ]
  }
 ],
 "metadata": {
  "kernelspec": {
   "display_name": "Python 3",
   "language": "python",
   "name": "python3"
  },
  "language_info": {
   "codemirror_mode": {
    "name": "ipython",
    "version": 3
   },
   "file_extension": ".py",
   "mimetype": "text/x-python",
   "name": "python",
   "nbconvert_exporter": "python",
   "pygments_lexer": "ipython3",
   "version": "3.10.13"
  }
 },
 "nbformat": 4,
 "nbformat_minor": 2
}
