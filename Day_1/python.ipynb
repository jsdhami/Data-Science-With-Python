{
 "cells": [
  {
   "cell_type": "markdown",
   "metadata": {},
   "source": [
    "## Data Science With Python \n",
    "#### In first day, We will learn about array, list, touple, set, etc...."
   ]
  },
  {
   "cell_type": "code",
   "execution_count": 1,
   "metadata": {},
   "outputs": [
    {
     "name": "stdout",
     "output_type": "stream",
     "text": [
      "Happy Holi\n"
     ]
    }
   ],
   "source": [
    "print(\"Happy Holi\")"
   ]
  },
  {
   "cell_type": "markdown",
   "metadata": {},
   "source": [
    "# # # Data Types In Python"
   ]
  },
  {
   "cell_type": "code",
   "execution_count": 5,
   "metadata": {},
   "outputs": [
    {
     "name": "stdout",
     "output_type": "stream",
     "text": [
      "My name is Janak Singh Dhami\n",
      "data type of name is <class 'str'>\n"
     ]
    }
   ],
   "source": [
    "# this is a string data type in python\n",
    "# string means, a sequence of characters\n",
    "name = \"Janak Singh Dhami\"\n",
    "print(\"My name is\", name)\n",
    "print(\"data type of name is\", type(name))\n"
   ]
  },
  {
   "cell_type": "code",
   "execution_count": 6,
   "metadata": {},
   "outputs": [
    {
     "name": "stdout",
     "output_type": "stream",
     "text": [
      "My age is : 21\n",
      "data type of age is <class 'int'>\n"
     ]
    }
   ],
   "source": [
    "# this is a integer data type in python\n",
    "# integer means, whole number\n",
    "age = 21\n",
    "print(\"My age is :\", age)\n",
    "print(\"data type of age is\", type(age))\n",
    "\n"
   ]
  },
  {
   "cell_type": "code",
   "execution_count": 7,
   "metadata": {},
   "outputs": [
    {
     "name": "stdout",
     "output_type": "stream",
     "text": [
      "My height is : 5.11\n",
      "data type of height is <class 'float'>\n"
     ]
    }
   ],
   "source": [
    "# this is a float data type in python\n",
    "#  float means, decimal number\n",
    "height = 5.11\n",
    "print(\"My height is :\", height)\n",
    "print(\"data type of height is\", type(height))"
   ]
  }
 ],
 "metadata": {
  "kernelspec": {
   "display_name": "Python 3",
   "language": "python",
   "name": "python3"
  },
  "language_info": {
   "codemirror_mode": {
    "name": "ipython",
    "version": 3
   },
   "file_extension": ".py",
   "mimetype": "text/x-python",
   "name": "python",
   "nbconvert_exporter": "python",
   "pygments_lexer": "ipython3",
   "version": "3.10.13"
  }
 },
 "nbformat": 4,
 "nbformat_minor": 2
}
