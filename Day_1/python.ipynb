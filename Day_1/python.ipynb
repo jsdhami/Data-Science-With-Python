{
 "cells": [
  {
   "cell_type": "markdown",
   "metadata": {},
   "source": [
    "## Data Science With Python \n",
    "## Day_1\n",
    "#### In first day, We will learn about array, list, touple, set, etc...."
   ]
  },
  {
   "cell_type": "code",
   "execution_count": 1,
   "metadata": {},
   "outputs": [
    {
     "name": "stdout",
     "output_type": "stream",
     "text": [
      "Happy Holi\n"
     ]
    }
   ],
   "source": [
    "print(\"Happy Holi\")"
   ]
  },
  {
   "cell_type": "markdown",
   "metadata": {},
   "source": [
    "### Data Types In Python\n",
    "#####  Premative Data Types\n",
    "- integer\n",
    "- string\n",
    "- boolean\n",
    "- float\n",
    "- complex\n"
   ]
  },
  {
   "cell_type": "code",
   "execution_count": 5,
   "metadata": {},
   "outputs": [
    {
     "name": "stdout",
     "output_type": "stream",
     "text": [
      "My name is Janak Singh Dhami\n",
      "data type of name is <class 'str'>\n"
     ]
    }
   ],
   "source": [
    "# this is a string data type in python\n",
    "# string means, a sequence of characters\n",
    "name = \"Janak Singh Dhami\"\n",
    "print(\"My name is\", name)\n",
    "print(\"data type of name is\", type(name))\n"
   ]
  },
  {
   "cell_type": "code",
   "execution_count": 6,
   "metadata": {},
   "outputs": [
    {
     "name": "stdout",
     "output_type": "stream",
     "text": [
      "My age is : 21\n",
      "data type of age is <class 'int'>\n"
     ]
    }
   ],
   "source": [
    "# this is a integer data type in python\n",
    "# integer means, whole number\n",
    "age = 21\n",
    "print(\"My age is :\", age)\n",
    "print(\"data type of age is\", type(age))\n",
    "\n"
   ]
  },
  {
   "cell_type": "code",
   "execution_count": 7,
   "metadata": {},
   "outputs": [
    {
     "name": "stdout",
     "output_type": "stream",
     "text": [
      "My height is : 5.11\n",
      "data type of height is <class 'float'>\n"
     ]
    }
   ],
   "source": [
    "# this is a float data type in python\n",
    "#  float means, decimal number\n",
    "height = 5.11\n",
    "print(\"My height is :\", height)\n",
    "print(\"data type of height is\", type(height))"
   ]
  },
  {
   "cell_type": "code",
   "execution_count": 3,
   "metadata": {},
   "outputs": [
    {
     "name": "stdout",
     "output_type": "stream",
     "text": [
      "I am student : True\n",
      "data type of is_student is: <class 'bool'>\n"
     ]
    }
   ],
   "source": [
    "# this is a boolean data type in python\n",
    "# boolean means, True or False\n",
    "is_student = True\n",
    "print(\"I am student :\", is_student)\n",
    "print(\"data type of is_student is:\", type(is_student))"
   ]
  },
  {
   "cell_type": "code",
   "execution_count": 11,
   "metadata": {},
   "outputs": [
    {
     "name": "stdout",
     "output_type": "stream",
     "text": [
      "complex number is : (5+3j)\n",
      "data type of c is: <class 'complex'>\n"
     ]
    }
   ],
   "source": [
    "# this is a complex data type in python\n",
    "# complex means, a number with real and imaginary part\n",
    "c = 5 + 3j\n",
    "print(\"complex number is :\", c)\n",
    "print(\"data type of c is:\", type(c))\n"
   ]
  },
  {
   "cell_type": "code",
   "execution_count": 16,
   "metadata": {},
   "outputs": [
    {
     "name": "stdout",
     "output_type": "stream",
     "text": [
      "65\n",
      "9\n",
      "0.6021844548015101\n"
     ]
    }
   ],
   "source": [
    "# this is random module in python\n",
    "#  modeule is a file containing python code\n",
    "#  module can define functions, classes and variables\n",
    "import random\n",
    "print(random.randint(1, 100)) # this will print random number between 1 and 100\n",
    "print(random.randrange(1, 10)) # this will print random number between 1 and 10\n",
    "print(random.random()) # this will print random number between 0 and 1"
   ]
  }
 ],
 "metadata": {
  "kernelspec": {
   "display_name": "Python 3",
   "language": "python",
   "name": "python3"
  },
  "language_info": {
   "codemirror_mode": {
    "name": "ipython",
    "version": 3
   },
   "file_extension": ".py",
   "mimetype": "text/x-python",
   "name": "python",
   "nbconvert_exporter": "python",
   "pygments_lexer": "ipython3",
   "version": "3.10.13"
  }
 },
 "nbformat": 4,
 "nbformat_minor": 2
}
