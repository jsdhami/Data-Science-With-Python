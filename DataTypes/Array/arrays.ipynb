{
 "cells": [
  {
   "cell_type": "markdown",
   "metadata": {},
   "source": [
    "# Arrays are Lists in Python"
   ]
  },
  {
   "cell_type": "code",
   "execution_count": 11,
   "metadata": {},
   "outputs": [
    {
     "name": "stdout",
     "output_type": "stream",
     "text": [
      "The students are: ['Janak', 'Sita', 'Ram']\n",
      "The first student is: Janak\n",
      "The students are: [[['Janak', 25], ['Ram', 30]], [['Hari', 55], ['Sanakr', 66]]]\n",
      "The first student is: Hari\n",
      "The first student's age is: 55\n"
     ]
    }
   ],
   "source": [
    "students = [\"Janak\", \"Sita\", \"Ram\"]\n",
    "print(\"The students are:\", students)\n",
    "print(\"The first student is:\", students[0])\n",
    "\n",
    "# 2D list\n",
    "students = [[[\"Janak\", 25],[\"Ram\", 30]],\n",
    "            [[\"Hari\",55], [\"Sanakr\", 66]]]\n",
    "\n",
    "print(\"The students are:\", students)\n",
    "print(\"The first student is:\", students[1][0][0])\n",
    "print(\"The first student's age is:\", students[1][0][1])"
   ]
  },
  {
   "cell_type": "code",
   "execution_count": 15,
   "metadata": {},
   "outputs": [
    {
     "name": "stdout",
     "output_type": "stream",
     "text": [
      "The list h is: [5, 6, 7, 8]\n",
      "The length of the list h is: 4\n",
      "The list h is: [5, 6, 7, 8, 9]\n"
     ]
    }
   ],
   "source": [
    "h = [5, 6, 7, 8]\n",
    "print(\"The list h is:\", h)\n",
    "print(\"The length of the list h is:\", len(h))\n",
    "h.append(9)  #add 9 to the end of the list\n",
    "print(\"The list h is:\", h)\n"
   ]
  },
  {
   "cell_type": "code",
   "execution_count": 21,
   "metadata": {},
   "outputs": [
    {
     "name": "stdout",
     "output_type": "stream",
     "text": [
      "5 is in the list h\n"
     ]
    }
   ],
   "source": [
    "# loop\n",
    "\n",
    "# for i in h:\n",
    "      # print(\"The element is:\", i)\n",
    "      \n",
    "# loop with index\n",
    "# for i in range(len(h)):\n",
    "#       print(\"The element is:\", h[i])\n",
    "      \n",
    "# if\n",
    "if 5 in h:\n",
    "      print(\"5 is in the list h\")"
   ]
  },
  {
   "cell_type": "code",
   "execution_count": 3,
   "metadata": {},
   "outputs": [
    {
     "name": "stdout",
     "output_type": "stream",
     "text": [
      "<class 'str'>\n",
      "<class 'int'>\n",
      "The list xyz is: <class 'list'>\n"
     ]
    }
   ],
   "source": [
    "# We can store different data types in a array/list\n",
    "xyz = [\"aj\", 5, 5.6]\n",
    "print(type(xyz[0]))\n",
    "print(type(xyz[1]))\n",
    "print(\"The list xyz is:\", type(xyz))"
   ]
  },
  {
   "cell_type": "markdown",
   "metadata": {},
   "source": [
    "# We will see methods of arrays/lists in List"
   ]
  }
 ],
 "metadata": {
  "kernelspec": {
   "display_name": "Python 3",
   "language": "python",
   "name": "python3"
  },
  "language_info": {
   "codemirror_mode": {
    "name": "ipython",
    "version": 3
   },
   "file_extension": ".py",
   "mimetype": "text/x-python",
   "name": "python",
   "nbconvert_exporter": "python",
   "pygments_lexer": "ipython3",
   "version": "3.10.13"
  }
 },
 "nbformat": 4,
 "nbformat_minor": 2
}
